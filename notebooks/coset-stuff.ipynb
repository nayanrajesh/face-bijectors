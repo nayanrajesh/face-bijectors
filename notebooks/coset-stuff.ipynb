{
 "cells": [
  {
   "cell_type": "code",
   "execution_count": 30,
   "id": "8e549703",
   "metadata": {},
   "outputs": [],
   "source": [
    "load ('/home/nayan/Documents/Polymath/face-bijectors/sage-packages/CosetRestriction.sage')\n",
    "load ('/home/nayan/Documents/Polymath/face-bijectors/sage-packages/Read.sage')"
   ]
  },
  {
   "cell_type": "code",
   "execution_count": 18,
   "id": "348fa228",
   "metadata": {},
   "outputs": [],
   "source": [
    "Bad = np.load('m9_Bad.npy', allow_pickle=True)\n",
    "def ArrayToPoset(Arr):\n",
    "    El = list(set([x[0] for x in Arr[0]]+[x[1] for x in Arr[0]]))\n",
    "    P = [Poset([El, Rel]) for Rel in Arr]\n",
    "    return P"
   ]
  },
  {
   "cell_type": "code",
   "execution_count": 19,
   "id": "d6e6c587",
   "metadata": {},
   "outputs": [],
   "source": [
    "Bad9 = ArrayToPoset(Bad)"
   ]
  },
  {
   "cell_type": "code",
   "execution_count": 21,
   "id": "9506ad90",
   "metadata": {},
   "outputs": [
    {
     "data": {
      "text/plain": [
       "776"
      ]
     },
     "execution_count": 21,
     "metadata": {},
     "output_type": "execute_result"
    }
   ],
   "source": [
    "len(Bad9)"
   ]
  },
  {
   "cell_type": "code",
   "execution_count": 25,
   "id": "0136987e",
   "metadata": {},
   "outputs": [],
   "source": [
    "#returns all the elements of the poset that satisfy a \\in G\\H and 2a \\notin H\n",
    "def AFromSubGroup(Poset, H):\n",
    "    m = Poset.cardinality()\n",
    "    GminusH = [x for x in Poset if x not in H]\n",
    "    A2NotinH = [x for x in GminusH if mod(x+x,m) not in H]\n",
    "    return A2NotinH\n",
    "\n",
    "\n",
    "\n",
    "\n",
    "\n",
    "\n",
    "\n",
    "\n",
    "#Checks Prop313(a)\n",
    "def Check3131(Poset, a, H):\n",
    "    m = Poset.cardinality()\n",
    "\n",
    "    flag = 0\n",
    "    for b in H:\n",
    "        l = 0\n",
    "        for i in [mod(a+h, m) for h in H]:\n",
    "            if Poset.is_lequal(i, mod(i+i+b, m)):\n",
    "                l=l+1\n",
    "        if l == len(H):\n",
    "            flag =1\n",
    "            break\n",
    "    return (flag == 1)\n",
    "    \n",
    "#Checks Prop 313(b)    \n",
    "def Check3132(Poset, a, H):\n",
    "    m = Poset.cardinality()\n",
    "    for i in [mod(a+h,m) for h in H]:\n",
    "        for j in [mod(a+a+h,m) for h in H]:\n",
    "            if not Poset.is_lequal(i,j):\n",
    "                return False\n",
    "            \n",
    "    return True\n",
    "\n",
    "#For all Subgroups, H of Z_m and for a corresponding to each subgroup such that a \\in G\\H and 2a \\notin H, check if\n",
    "#Prop313(a) is equivalent to Prop313(b)\n",
    "def Prop313(Poset):\n",
    "    m = Poset.cardinality()\n",
    "    \n",
    "    HH = AllSubgroups(m)\n",
    "    for H in HH:\n",
    "        A = AFromSubGroup(Poset, H)\n",
    "        for a in A:\n",
    "            if Check3131(Poset, a, H) != Check3132(Poset, a,H):\n",
    "                return False\n",
    "        return True\n"
   ]
  },
  {
   "cell_type": "code",
   "execution_count": 22,
   "id": "b71daec9",
   "metadata": {},
   "outputs": [],
   "source": [
    "X= [x for x in Bad9 if CosetRestrictionCheck(x)]"
   ]
  },
  {
   "cell_type": "code",
   "execution_count": 24,
   "id": "37346b1b",
   "metadata": {},
   "outputs": [
    {
     "data": {
      "text/plain": [
       "588"
      ]
     },
     "execution_count": 24,
     "metadata": {},
     "output_type": "execute_result"
    }
   ],
   "source": [
    "len(X)"
   ]
  },
  {
   "cell_type": "code",
   "execution_count": 26,
   "id": "652aab46",
   "metadata": {},
   "outputs": [],
   "source": [
    "Y = [x for x in Bad9 if Prop313(x)]"
   ]
  },
  {
   "cell_type": "code",
   "execution_count": 27,
   "id": "1160358b",
   "metadata": {},
   "outputs": [
    {
     "data": {
      "text/plain": [
       "588"
      ]
     },
     "execution_count": 27,
     "metadata": {},
     "output_type": "execute_result"
    }
   ],
   "source": [
    "len(Y)"
   ]
  },
  {
   "cell_type": "code",
   "execution_count": 28,
   "id": "f06f43c7",
   "metadata": {},
   "outputs": [
    {
     "data": {
      "text/plain": [
       "True"
      ]
     },
     "execution_count": 28,
     "metadata": {},
     "output_type": "execute_result"
    }
   ],
   "source": [
    "set(X) == set(Y)"
   ]
  },
  {
   "cell_type": "code",
   "execution_count": 31,
   "id": "51db161a",
   "metadata": {},
   "outputs": [],
   "source": [
    "Read9 = ReadPosets(9)\n",
    "Read8 = ReadPosets(8)"
   ]
  },
  {
   "cell_type": "code",
   "execution_count": 36,
   "id": "31490822",
   "metadata": {},
   "outputs": [],
   "source": [
    "X = [x for x in Read9 if CosetRestrictionCheck(x)]"
   ]
  },
  {
   "cell_type": "code",
   "execution_count": 37,
   "id": "6a56ff62",
   "metadata": {},
   "outputs": [
    {
     "data": {
      "text/plain": [
       "3876"
      ]
     },
     "execution_count": 37,
     "metadata": {},
     "output_type": "execute_result"
    }
   ],
   "source": [
    "len(X)"
   ]
  },
  {
   "cell_type": "code",
   "execution_count": 38,
   "id": "91cb7c22",
   "metadata": {},
   "outputs": [
    {
     "data": {
      "text/plain": [
       "6504"
      ]
     },
     "execution_count": 38,
     "metadata": {},
     "output_type": "execute_result"
    }
   ],
   "source": [
    "len(Read9)"
   ]
  },
  {
   "cell_type": "code",
   "execution_count": null,
   "id": "e1d68203",
   "metadata": {},
   "outputs": [],
   "source": []
  }
 ],
 "metadata": {
  "kernelspec": {
   "display_name": "SageMath 9.3",
   "language": "sage",
   "name": "sagemath"
  },
  "language_info": {
   "codemirror_mode": {
    "name": "ipython",
    "version": 3
   },
   "file_extension": ".py",
   "mimetype": "text/x-python",
   "name": "python",
   "nbconvert_exporter": "python",
   "pygments_lexer": "ipython3",
   "version": "3.9.5"
  }
 },
 "nbformat": 4,
 "nbformat_minor": 5
}
