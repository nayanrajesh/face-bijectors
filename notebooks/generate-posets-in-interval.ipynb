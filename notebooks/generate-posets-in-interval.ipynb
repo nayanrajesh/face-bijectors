{
 "cells": [
  {
   "cell_type": "code",
   "execution_count": 1,
   "metadata": {},
   "outputs": [],
   "source": [
    "#Load GeneratePosets.sage (the latest version on the Git)\n",
    "load('/home/nayan/Downloads/sage-9.3/Read.sage')\n",
    "#load('/home/sage/sage-packages/Read.sage')\n",
    "load('/home/nayan/Downloads/sage-9.3/GeneratePosets.sage')\n",
    "#load('home/sage/sage-packages/gene')\n",
    "import numpy as np"
   ]
  },
  {
   "cell_type": "code",
   "execution_count": 2,
   "metadata": {},
   "outputs": [],
   "source": [
    "def AllPosetsInInterval(m, start, end, step):\n",
    "    p  =os.getcwd()\n",
    "    dirname = 'posets-in-'+str(start)+'-'+str(end)\n",
    "    newdir = os.path.join(p, dirname)\n",
    "    if not os.path.exists(newdir):\n",
    "        os.mkdir(newdir)\n",
    "    os.chdir(newdir)\n",
    "    \n",
    "    X = []\n",
    "    A = AtomSkeletons(m)\n",
    "    j = 0\n",
    "    for i in range (start, end, step):\n",
    "        next = i+step\n",
    "        Ps = AllPosets(m, A[i:next])\n",
    "        name = str(i)+'-'+str(next)+'.npy'\n",
    "        j = j+1\n",
    "        relations =[x.relations() for x in Ps]\n",
    "        data = np.asarray(relations)\n",
    "        np.save(name, data)\n",
    "        X = X+Ps\n",
    "    if (end-start%step !=0):\n",
    "        n = (end-start)//step\n",
    "        Ps = AllPosets(m, A[n:end])\n",
    "        X = X+Ps\n",
    "    if end >= (len(AtomSkeletons(m))-1):\n",
    "        X = X + [A.pop()]\n",
    "    X= list(set(X))\n",
    "    alldata = [x.relations() for x in X]\n",
    "    name = 'posets-in-'+str(start)+'-'+str(end)+'.npy'\n",
    "    savearray = np.asarray(alldata)\n",
    "    np.save(name, savearray)\n",
    "    os.chdir(p)\n",
    "    return X\n",
    "    "
   ]
  },
  {
   "cell_type": "code",
   "execution_count": null,
   "metadata": {},
   "outputs": [],
   "source": []
  },
  {
   "cell_type": "code",
   "execution_count": 4,
   "metadata": {},
   "outputs": [],
   "source": []
  },
  {
   "cell_type": "code",
   "execution_count": null,
   "metadata": {},
   "outputs": [],
   "source": []
  },
  {
   "cell_type": "code",
   "execution_count": null,
   "metadata": {},
   "outputs": [],
   "source": []
  },
  {
   "cell_type": "code",
   "execution_count": null,
   "metadata": {},
   "outputs": [],
   "source": []
  },
  {
   "cell_type": "code",
   "execution_count": null,
   "metadata": {},
   "outputs": [],
   "source": []
  },
  {
   "cell_type": "code",
   "execution_count": null,
   "metadata": {},
   "outputs": [],
   "source": []
  },
  {
   "cell_type": "code",
   "execution_count": null,
   "metadata": {},
   "outputs": [],
   "source": []
  },
  {
   "cell_type": "code",
   "execution_count": null,
   "metadata": {},
   "outputs": [],
   "source": []
  },
  {
   "cell_type": "code",
   "execution_count": null,
   "metadata": {},
   "outputs": [],
   "source": []
  },
  {
   "cell_type": "code",
   "execution_count": null,
   "metadata": {},
   "outputs": [],
   "source": []
  },
  {
   "cell_type": "code",
   "execution_count": null,
   "metadata": {},
   "outputs": [],
   "source": []
  },
  {
   "cell_type": "code",
   "execution_count": null,
   "metadata": {},
   "outputs": [],
   "source": []
  }
 ],
 "metadata": {
  "kernelspec": {
   "display_name": "SageMath 9.3",
   "language": "sage",
   "name": "sagemath"
  },
  "language_info": {
   "codemirror_mode": {
    "name": "ipython",
    "version": 3
   },
   "file_extension": ".py",
   "mimetype": "text/x-python",
   "name": "python",
   "nbconvert_exporter": "python",
   "pygments_lexer": "ipython3",
   "version": "3.9.6"
  }
 },
 "nbformat": 4,
 "nbformat_minor": 4
}
