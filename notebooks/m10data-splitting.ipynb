{
 "cells": [
  {
   "cell_type": "code",
   "execution_count": 53,
   "metadata": {},
   "outputs": [],
   "source": [
    "#Load GeneratePosets.sage (the latest version on the Git)\n",
    "\n",
    "load('/home/nayan/Downloads/sage-9.3/GeneratePosets.sage')\n",
    "import numpy as np"
   ]
  },
  {
   "cell_type": "code",
   "execution_count": 57,
   "metadata": {},
   "outputs": [],
   "source": [
    "#If your laptop starts hanging, reduce the gap\n",
    "#m is the multiplicity\n",
    "m = 7\n",
    "gap = 13"
   ]
  },
  {
   "cell_type": "code",
   "execution_count": 58,
   "metadata": {},
   "outputs": [],
   "source": [
    "A= AtomSkeletons(m)\n",
    "loopend = ((len(A)-1)//gap)*gap\n"
   ]
  },
  {
   "cell_type": "code",
   "execution_count": null,
   "metadata": {},
   "outputs": [],
   "source": [
    "#The following lines create numpy array files (the number of files depends on gap and m) that have posets for \n",
    "#different combinations of atoms"
   ]
  },
  {
   "cell_type": "code",
   "execution_count": 49,
   "metadata": {},
   "outputs": [],
   "source": [
    "j=0\n",
    "counter = 0\n",
    "while j <=loopend:\n",
    "    N = AllPosets(m,A[j:j+gap])\n",
    "    j = j+gap\n",
    "    X = [x.relations() for x in N]\n",
    "    data = np.asarray(X)\n",
    "    name = str(counter)+'.npy'\n",
    "    counter = counter+1\n",
    "    np.save(name , data)\n",
    "\n",
    "N = AllPosets(m, A[j:])\n",
    "X= [x.relations() for x in N]\n",
    "data = np.asarray(X)\n",
    "name = str(counter)+'.npy'\n",
    "np.save(name,data)\n",
    "counter =counter+1\n",
    "last = AtomSkeletons(m).pop()\n",
    "np.save(str(counter)+'.npy', np.asarray(last.relations()))\n",
    "    "
   ]
  },
  {
   "cell_type": "code",
   "execution_count": 33,
   "metadata": {},
   "outputs": [],
   "source": []
  },
  {
   "cell_type": "code",
   "execution_count": 50,
   "metadata": {},
   "outputs": [],
   "source": [
    "#This takes a list of numpy arrays and puts them together to give all posets\n",
    "Ps = []\n",
    "#final file name+1\n",
    "#change this as per the multiplicity\n",
    "n = 4\n",
    "for i in range(0,n):\n",
    "    name = str(i)+'.npy'\n",
    "    X = np.load(name, allow_pickle=True)\n",
    "    P = [Poset([[0..(m-1)], Rel]) for Rel in X]\n",
    "    Ps = Ps+P\n",
    "    Ps = list(set(Ps))\n",
    "\n",
    "    "
   ]
  },
  {
   "cell_type": "code",
   "execution_count": null,
   "metadata": {},
   "outputs": [],
   "source": []
  },
  {
   "cell_type": "code",
   "execution_count": null,
   "metadata": {},
   "outputs": [],
   "source": []
  },
  {
   "cell_type": "code",
   "execution_count": null,
   "metadata": {},
   "outputs": [],
   "source": []
  },
  {
   "cell_type": "code",
   "execution_count": null,
   "metadata": {},
   "outputs": [],
   "source": []
  },
  {
   "cell_type": "code",
   "execution_count": null,
   "metadata": {},
   "outputs": [],
   "source": []
  }
 ],
 "metadata": {
  "kernelspec": {
   "display_name": "SageMath 9.3",
   "language": "sage",
   "name": "sagemath"
  }
 },
 "nbformat": 4,
 "nbformat_minor": 4
}
