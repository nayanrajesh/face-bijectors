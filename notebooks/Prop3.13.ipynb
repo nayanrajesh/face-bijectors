{
 "cells": [
  {
   "cell_type": "code",
   "execution_count": 28,
   "metadata": {},
   "outputs": [],
   "source": [
    "#Return all subgroups of Z_m\n",
    "def AllSubgroups(m):\n",
    "    HH = []\n",
    "    if m in Primes():\n",
    "        return [[0]]\n",
    "    else:\n",
    "        for i in range (2, m//2+1):\n",
    "            j = i\n",
    "            H = []\n",
    "            while True:\n",
    "                H.append(j)\n",
    "                H1 = set(H)\n",
    "                if j == 0:\n",
    "                    break\n",
    "                j = mod(j+i,m)\n",
    "                \n",
    "                    \n",
    "            if H1 not in HH and H1!=set(list[0..(m-1)]):\n",
    "                HH.append(H1)\n",
    "    return [list(x) for x in HH]\n",
    "\n"
   ]
  },
  {
   "cell_type": "code",
   "execution_count": 29,
   "metadata": {},
   "outputs": [],
   "source": [
    "#returns all the elements of the poset that satisfy a \\in G\\H and 2a \\notin H\n",
    "def AFromSubGroup(Poset, H):\n",
    "    m = Poset.cardinality()\n",
    "    GminusH = [x for x in Poset if x not in H]\n",
    "    A2NotinH = [x for x in GminusH if mod(x+x,m) not in H]\n",
    "    return A2NotinH\n",
    "\n",
    "\n",
    "\n",
    "\n",
    "\n",
    "\n",
    "\n",
    "\n",
    "#Checks Prop313(a)\n",
    "def Check3131(Poset, a, H):\n",
    "    m = Poset.cardinality()\n",
    "\n",
    "    flag = 0\n",
    "    for b in H:\n",
    "        l = 0\n",
    "        for i in [mod(a+h, m) for h in H]:\n",
    "            if Poset.is_lequal(i, mod(i+i+b, m)):\n",
    "                l=l+1\n",
    "        if l == len(H):\n",
    "            flag =1\n",
    "            break\n",
    "    return (flag == 1)\n",
    "    \n",
    "#Checks Prop 313(b)    \n",
    "def Check3132(Poset, a, H):\n",
    "    m = Poset.cardinality()\n",
    "    for i in [mod(a+h,m) for h in H]:\n",
    "        for j in [mod(a+a+h,m) for h in H]:\n",
    "            if not Poset.is_lequal(i,j):\n",
    "                return False\n",
    "            \n",
    "    return True\n",
    "\n",
    "#For all Subgroups, H of Z_m and for a corresponding to each subgroup such that a \\in G\\H and 2a \\notin H, check if\n",
    "#Prop313(a) is equivalent to Prop313(b)\n",
    "def Prop313(Poset):\n",
    "    m = Poset.cardinality()\n",
    "    \n",
    "    HH = AllSubgroups(m)\n",
    "    for H in HH:\n",
    "        A = AFromSubGroup(Poset, H)\n",
    "        for a in A:\n",
    "            if Check3131(Poset, a, H) != Check3132(Poset, a,H):\n",
    "                return False\n",
    "        return True\n"
   ]
  },
  {
   "cell_type": "code",
   "execution_count": null,
   "metadata": {},
   "outputs": [],
   "source": []
  },
  {
   "cell_type": "code",
   "execution_count": null,
   "metadata": {},
   "outputs": [],
   "source": []
  },
  {
   "cell_type": "code",
   "execution_count": null,
   "metadata": {},
   "outputs": [],
   "source": []
  },
  {
   "cell_type": "code",
   "execution_count": null,
   "metadata": {},
   "outputs": [],
   "source": []
  },
  {
   "cell_type": "code",
   "execution_count": null,
   "metadata": {},
   "outputs": [],
   "source": []
  },
  {
   "cell_type": "code",
   "execution_count": null,
   "metadata": {},
   "outputs": [],
   "source": []
  }
 ],
 "metadata": {
  "kernelspec": {
   "display_name": "SageMath 9.3",
   "language": "sage",
   "name": "sagemath"
  },
  "language_info": {
   "codemirror_mode": {
    "name": "ipython",
    "version": 3
   },
   "file_extension": ".py",
   "mimetype": "text/x-python",
   "name": "python",
   "nbconvert_exporter": "python",
   "pygments_lexer": "ipython3",
   "version": "3.9.6"
  }
 },
 "nbformat": 4,
 "nbformat_minor": 4
}
