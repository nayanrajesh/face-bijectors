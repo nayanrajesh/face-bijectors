{
 "cells": [
  {
   "cell_type": "code",
   "execution_count": null,
   "id": "157e2d30",
   "metadata": {},
   "outputs": [],
   "source": [
    "def Restriction1(P):\n",
    "    m = P.cardinality()\n",
    "    for a in [x for x in P if x!=0]:\n",
    "        c = mod(-a, m)\n",
    "        for b in [x for x in P if x!=0]:\n",
    "            if mod(3*a+b, m) == 0:\n",
    "                if P.is_less_than(a, mod(a+b, m)) and P.is_less_than(c, mod(a-b, m)) and P.is_less_than(c, mod(-b-a,m)):\n",
    "                    if not P.is_less_than(c, mod(a+b, m)):\n",
    "                        #print(a,b,c)\n",
    "                        return False\n",
    "                    if not P.is_less_than(a, mod(a-b, m)):\n",
    "                        #print(a, mod(b-a, m))\n",
    "                        return False\n",
    "                    if not P.is_less_than(b, mod(-b-a,m )):\n",
    "                        #print()\n",
    "                        return False\n",
    "    return True\n",
    "\n",
    "def Restriction2(P):\n",
    "    m = P.cardinality()\n",
    "    for a in [x for x in P if x!=0]:\n",
    "        for b in [x for x in P if x!=0]:\n",
    "            for c in [x for x in P if x!=0]:\n",
    "                if mod(2*a+c-b, m)==0 and mod(2*a+b-c, m)==0:\n",
    "                    if P.is_less_than(a, mod(a+b, m)) and P.is_less_than(a, mod(a+c, m)) and P.is_less_than(mod(3*a,m), mod(2*a,m)):\n",
    "                        if not P.is_less_than(c, mod(a+b, m)):\n",
    "                            #print(a,b,c)\n",
    "                            return False\n",
    "                        if not P.is_less_than(b, mod(a+c, m)):\n",
    "                            #print(a, mod(b-a, m))\n",
    "                            return False\n",
    "                        if not P.is_less_than(a, mod(2*a,m )):\n",
    "                            #print()\n",
    "                            return False\n",
    "    return True\n",
    "\n",
    "def Restriction3(P):\n",
    "    m = P.cardinality()\n",
    "    El = [1..(m-1)]\n",
    "    for a in El:\n",
    "        for b in El:\n",
    "            if mod(2*a,m) == mod(2*b ,m):\n",
    "                #print(a,b)\n",
    "                for c in El:\n",
    "                    if mod(2*c,m)==mod(a+b,m):\n",
    "                        #print(c)\n",
    "                        if P.is_less_than(a, mod(a+b,m)) and P.is_less_than(c, mod(2*a, m)):\n",
    "                            #print(a, b,c)\n",
    "                            if not P.is_less_than(a, mod(2*a, m)):\n",
    "                                return False\n",
    "                            if not P.is_less_than(b, mod(2*a, m)):\n",
    "                                return False\n",
    "                            if not P.is_less_than(c, mod(a+b, m)):\n",
    "                                return False\n",
    "                            if not P.is_less_than(mod(2*a-c, m), mod(a+b,m)):\n",
    "                                return False\n",
    "    return True\n",
    "#Check this again\n",
    "def Restriction4(P):\n",
    "    El = [x for x in P if x!=0]\n",
    "    m = P.cardinality()\n",
    "    for a in El:\n",
    "        for b in El:\n",
    "            for c in El:\n",
    "                if mod(a+c, m) == mod(-2*a-2*b, m):\n",
    "                    for d in El:\n",
    "                        if P.is_less_than(a, mod(a+b,m)) and P.is_less_than(c, mod(-a-b, m)) and P.is_less_than(d, mod(-2*a-2*b, m)):\n",
    "                            if not P.is_less_than(d, mod(a+b,m)):\n",
    "                                return False\n",
    "                            if not P.is_less_than(mod(3*c,m), mod(a+b,m)):\n",
    "                                return False\n",
    "                            if not P.is_less_than(mod(d+a+b,m), mod(-a-b,m)):\n",
    "                                return False\n",
    "                            if not P.is_less_than(a, mod(-a-b,m)):\n",
    "                                return False\n",
    "                            if not P.is_less_than(a, mod(-2*a -2*b, m)):\n",
    "                                return False\n",
    "    return True"
   ]
  },
  {
   "cell_type": "code",
   "execution_count": 14,
   "id": "fd56c906",
   "metadata": {},
   "outputs": [],
   "source": [
    "load('/home/nayan/Documents/Polymath/face-bijectors/sage-packages/GoodFromBad.sage')"
   ]
  },
  {
   "cell_type": "code",
   "execution_count": 17,
   "id": "55c7af4e",
   "metadata": {},
   "outputs": [],
   "source": [
    "A8 = np.load('m8_Bad.npy', allow_pickle=True)\n",
    "G9 = np.load('m9_Faces.npy', allow_pickle=True)"
   ]
  },
  {
   "cell_type": "code",
   "execution_count": 19,
   "id": "73ee4fb7",
   "metadata": {},
   "outputs": [],
   "source": [
    "P8 = ArrayToPoset(A8, 8)\n"
   ]
  },
  {
   "cell_type": "code",
   "execution_count": 20,
   "id": "4e59c6ff",
   "metadata": {},
   "outputs": [
    {
     "data": {
      "text/plain": [
       "138"
      ]
     },
     "execution_count": 20,
     "metadata": {},
     "output_type": "execute_result"
    }
   ],
   "source": [
    "len(P8)"
   ]
  },
  {
   "cell_type": "code",
   "execution_count": 28,
   "id": "72f45564",
   "metadata": {},
   "outputs": [
    {
     "name": "stdout",
     "output_type": "stream",
     "text": [
      "CPU times: user 6 µs, sys: 0 ns, total: 6 µs\n",
      "Wall time: 11.7 µs\n"
     ]
    }
   ],
   "source": [
    "%time\n",
    "x=GoodFromBad(P9[54])"
   ]
  },
  {
   "cell_type": "code",
   "execution_count": null,
   "id": "a988eac8",
   "metadata": {},
   "outputs": [],
   "source": []
  }
 ],
 "metadata": {
  "kernelspec": {
   "display_name": "SageMath 9.3",
   "language": "sage",
   "name": "sagemath"
  },
  "language_info": {
   "codemirror_mode": {
    "name": "ipython",
    "version": 3
   },
   "file_extension": ".py",
   "mimetype": "text/x-python",
   "name": "python",
   "nbconvert_exporter": "python",
   "pygments_lexer": "ipython3",
   "version": "3.9.5"
  }
 },
 "nbformat": 4,
 "nbformat_minor": 5
}
