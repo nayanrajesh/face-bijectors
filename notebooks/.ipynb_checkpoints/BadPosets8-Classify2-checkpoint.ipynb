{
 "cells": [
  {
   "cell_type": "code",
   "execution_count": 2,
   "metadata": {},
   "outputs": [],
   "source": [
    "import numpy as np\n",
    "P9 = np.load('/home/nayan/Downloads/sage-9.3/m9_Posets/m9_All.npy', allow_pickle = True)\n",
    "load('Read.sage')\n",
    "load('GeneratePosets.sage')"
   ]
  },
  {
   "cell_type": "code",
   "execution_count": 132,
   "metadata": {},
   "outputs": [],
   "source": [
    "def ArrayToPoset(Arr):\n",
    "    El = list(set([x[0] for x in Arr[0]]+[x[1] for x in Arr[0]]))\n",
    "    P = [Poset([El, Rel]) for Rel in Arr]\n",
    "    return P\n",
    "\n"
   ]
  },
  {
   "cell_type": "code",
   "execution_count": 1,
   "metadata": {},
   "outputs": [],
   "source": [
    "def GoodFromBad(badposet):\n",
    "    m = badposet.cardinality()\n",
    "    X= ReadPosets(m)\n",
    "    return EliminateRedun([x for x in X if (all(y in x.relations() for y in badposet.relations()))])\n",
    "\n",
    "def EliminateRedun(Goods):\n",
    "    Red = []\n",
    "    for i in range(0,len(Goods)):\n",
    "        for j in range(1,len(Goods)):\n",
    "            if j !=i:\n",
    "                if [x for x in Goods[i].relations() if x in Goods[j].relations()] == Goods[i].relations():\n",
    "                    Red.append(j)\n",
    "    El = [Goods[i] for i in range (0,len(Goods)) if i not in Red]\n",
    "    return El\n",
    "\n",
    "\n",
    "\n",
    "#P is a bad poset\n",
    "def RelationsToBeAdded(P):\n",
    "    PRel = P.relations()\n",
    "    AddRel = [[y for y in x.relations() if y not in PRel] for x in GoodFromBad(P)] \n",
    "    low = AddRel[0]\n",
    "    for x in AddRel:\n",
    "        if len(x) < len(low):\n",
    "            low = x\n",
    "    return low\n",
    "\n",
    "def RelEquality(P,Q):\n",
    "    return (RelationsToBeAdded(P) == RelationsToBeAdded(Q))\n",
    "\n",
    "def AddRelations(P,Rel):\n",
    "    if [x for x in P.relations() if x in Rel] != []:\n",
    "        return False\n",
    "    NewRelations = P.relations()+Rel\n",
    "    Elements = [x for x in P]\n",
    "    N = [x for x in NewRelations if x[0]!=x[1]]\n",
    "    NewRelations = N\n",
    "    D = DiGraph(NewRelations)\n",
    "    if D.is_directed_acyclic():\n",
    "        \n",
    "        Q = Poset([Elements, NewRelations])\n",
    "        m = P.cardinality()\n",
    "        if Q in ReadPosets(m):\n",
    "            return True\n",
    "        return False\n",
    "    else:\n",
    "        return False\n",
    "\n",
    "def PosetsThatNeedRelations(BadPosets, Rel):\n",
    "    return [P for P in BadPosets if AddRelations(P,Rel)]\n",
    "\n",
    "\n"
   ]
  },
  {
   "cell_type": "code",
   "execution_count": 118,
   "metadata": {},
   "outputs": [],
   "source": [
    "AllBad  = ArrayToPoset(P8)\n",
    "PossibleRelations = [RelationsToBeAdded(P) for P in AllBad]"
   ]
  },
  {
   "cell_type": "code",
   "execution_count": null,
   "metadata": {},
   "outputs": [],
   "source": []
  },
  {
   "cell_type": "code",
   "execution_count": 11,
   "metadata": {},
   "outputs": [],
   "source": []
  },
  {
   "cell_type": "code",
   "execution_count": null,
   "metadata": {},
   "outputs": [],
   "source": []
  },
  {
   "cell_type": "code",
   "execution_count": null,
   "metadata": {},
   "outputs": [],
   "source": []
  },
  {
   "cell_type": "code",
   "execution_count": null,
   "metadata": {},
   "outputs": [],
   "source": []
  },
  {
   "cell_type": "code",
   "execution_count": null,
   "metadata": {},
   "outputs": [],
   "source": []
  },
  {
   "cell_type": "code",
   "execution_count": null,
   "metadata": {},
   "outputs": [],
   "source": []
  },
  {
   "cell_type": "code",
   "execution_count": null,
   "metadata": {},
   "outputs": [],
   "source": []
  },
  {
   "cell_type": "code",
   "execution_count": null,
   "metadata": {},
   "outputs": [],
   "source": []
  },
  {
   "cell_type": "code",
   "execution_count": null,
   "metadata": {},
   "outputs": [],
   "source": []
  },
  {
   "cell_type": "code",
   "execution_count": null,
   "metadata": {},
   "outputs": [],
   "source": []
  },
  {
   "cell_type": "code",
   "execution_count": null,
   "metadata": {},
   "outputs": [],
   "source": []
  },
  {
   "cell_type": "code",
   "execution_count": null,
   "metadata": {},
   "outputs": [],
   "source": []
  },
  {
   "cell_type": "code",
   "execution_count": null,
   "metadata": {},
   "outputs": [],
   "source": []
  },
  {
   "cell_type": "code",
   "execution_count": null,
   "metadata": {},
   "outputs": [],
   "source": []
  },
  {
   "cell_type": "code",
   "execution_count": null,
   "metadata": {},
   "outputs": [],
   "source": []
  },
  {
   "cell_type": "code",
   "execution_count": 20,
   "metadata": {},
   "outputs": [],
   "source": []
  },
  {
   "cell_type": "code",
   "execution_count": 21,
   "metadata": {},
   "outputs": [],
   "source": []
  },
  {
   "cell_type": "code",
   "execution_count": 25,
   "metadata": {},
   "outputs": [],
   "source": []
  },
  {
   "cell_type": "code",
   "execution_count": null,
   "metadata": {},
   "outputs": [],
   "source": []
  },
  {
   "cell_type": "code",
   "execution_count": null,
   "metadata": {},
   "outputs": [],
   "source": []
  }
 ],
 "metadata": {
  "kernelspec": {
   "display_name": "SageMath 9.3",
   "language": "sage",
   "name": "sagemath"
  },
  "language_info": {
   "codemirror_mode": {
    "name": "ipython",
    "version": 3
   },
   "file_extension": ".py",
   "mimetype": "text/x-python",
   "name": "python",
   "nbconvert_exporter": "python",
   "pygments_lexer": "ipython3",
   "version": "3.9.5"
  }
 },
 "nbformat": 4,
 "nbformat_minor": 4
}
