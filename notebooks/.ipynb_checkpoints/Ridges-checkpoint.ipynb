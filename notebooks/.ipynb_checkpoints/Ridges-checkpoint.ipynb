{
 "cells": [
  {
   "cell_type": "code",
   "execution_count": 8,
   "metadata": {},
   "outputs": [],
   "source": [
    "#load('/face-bijectors/sage-packages/GeneratePosets.sage')\n"
   ]
  },
  {
   "cell_type": "code",
   "execution_count": 3,
   "metadata": {},
   "outputs": [],
   "source": [
    "def FacetPosets(m):\n",
    "    p = '/home/nayan/Downloads/sage-9.3/data/'\n",
    "    return [x.poset for x in KunzPoset.ReadFacesFromNormaliz(face_lattice_file_path=os.path.join(p,'m'+str(m)+'facet.fac'), hplane_file_path=os.path.join(p,'m'+str(m)+'.out'))]\n",
    "\n",
    "\n",
    "\n",
    "def FacetPosets1(m):\n",
    "    return ReadPosets(m, m-2)\n",
    "def FacetRelations(m):\n",
    "    return [P.relations() for P in FacetPosets(m)]"
   ]
  },
  {
   "cell_type": "code",
   "execution_count": null,
   "metadata": {},
   "outputs": [],
   "source": []
  },
  {
   "cell_type": "code",
   "execution_count": 38,
   "metadata": {},
   "outputs": [],
   "source": [
    "def RidgePosets(m):\n",
    "    return ReadPosets(m,m-3)"
   ]
  },
  {
   "cell_type": "code",
   "execution_count": 39,
   "metadata": {},
   "outputs": [],
   "source": [
    "#checks that if one equation is x_a+x_b = x_a+b then, the other is not of the form x_{a+b}+x_c = x_a or x_b\n",
    "def ValidIntersections(FacetRel1, FacetRel2):\n",
    "    for Relation in FacetRel1:\n",
    "        if Relation[1] !=Relation[0] and [Relation[1], Relation[0]] in FacetRel2:\n",
    "           # print(Relation)\n",
    "            return False\n",
    "    return True\n"
   ]
  },
  {
   "cell_type": "code",
   "execution_count": 40,
   "metadata": {},
   "outputs": [],
   "source": [
    "def PossibleFacetIntersections(m):\n",
    "    FacetRel = FacetRelations(m)\n",
    "    I = [x for x in Combin(FacetRel, 2) if ValidIntersections(x[0], x[1])]\n",
    "    return I"
   ]
  },
  {
   "cell_type": "code",
   "execution_count": 41,
   "metadata": {},
   "outputs": [],
   "source": [
    "def PossibleRidgePosets(m):\n",
    "    I = PossibleFacetIntersections(m)\n",
    "    Ps=  []\n",
    "    for Rel in I:\n",
    "        NewRel = Rel[0]+Rel[1]\n",
    "        P = Poset([[0..(m-1)], NewRel])\n",
    "        if Diamond(P):\n",
    "            Ps.append(P)\n",
    "    return Ps"
   ]
  },
  {
   "cell_type": "code",
   "execution_count": 42,
   "metadata": {},
   "outputs": [],
   "source": [
    "def BadRidgePosets(m):\n",
    "    Poss = PossibleRidgePosets(m)\n",
    "    Actual =RidgePosets(m)\n",
    "    return [x for x in Poss if x not in Actual]"
   ]
  },
  {
   "cell_type": "code",
   "execution_count": null,
   "metadata": {},
   "outputs": [],
   "source": []
  },
  {
   "cell_type": "code",
   "execution_count": 44,
   "metadata": {},
   "outputs": [],
   "source": [
    "def ValidNIntersections(FacetRel):\n",
    "    X = FacetRel\n",
    "    while X!=[]:\n",
    "        F1 = X[0]\n",
    "        X = X[1:]\n",
    "        for F in X:\n",
    "            for Relation in F1:\n",
    "                if Relation[1] !=Relation[0] and [Relation[1],Relation[0]] in F:\n",
    "                    return False\n",
    "    return True\n",
    "\n",
    "\n",
    "\n",
    "\n",
    "\n",
    "\n",
    "\n",
    "def PossibleNIntersections(m,n):\n",
    "    FacetRel = FacetRelations(m)\n",
    "    I = [x for x in Combin(FacetRel,n) if ValidNIntersections(x)]\n",
    "    return I\n",
    "\n",
    "\n",
    "\n",
    "\n",
    "\n",
    "\n",
    "def PossibleNPosets(m,n):\n",
    "    I = PossibleNIntersections(m,n)\n",
    "    Ps = []\n",
    "    for Rels in I:\n",
    "        NewRel = CombLists(Rels)\n",
    "        N = [x for x in NewRel if x[0]!=x[1]]\n",
    "        NewRel = N\n",
    "        if DiGraph(N).is_directed_acyclic():\n",
    "            \n",
    "            P = Poset([[0..(m-1)], NewRel])\n",
    "            if Diamond(P):\n",
    "                Ps.append(P)\n",
    "    return Ps\n",
    "\n",
    "    \n",
    "def ActualNPosets(m,n):\n",
    "    return ReadPosets(m, m-n-1)\n",
    "    "
   ]
  },
  {
   "cell_type": "code",
   "execution_count": 47,
   "metadata": {},
   "outputs": [],
   "source": [
    " \n",
    "\n",
    "def ReadRidge(m):\n",
    "    p = '/home/nayan/Downloads/sage-9.3/data/'\n",
    "    return [x.poset for x in KunzPoset.ReadFacesFromNormaliz(face_lattice_file_path=os.path.join(p,'m'+str(m)+'ridge.fac'), hplane_file_path=os.path.join(p,'m'+str(m)+'.out'))]\n",
    "\n",
    "def ReadRidge1516(m):\n",
    "    p = '/home/nayan/Downloads/'\n",
    "    return [x.poset for x in KunzPoset.ReadFacesFromNormaliz(face_lattice_file_path=os.path.join(p,'m'+str(m)+'ridge.fac'), hplane_file_path=os.path.join(p,'m'+str(m)+'.out'))]\n",
    "\n",
    "\n"
   ]
  },
  {
   "cell_type": "code",
   "execution_count": 46,
   "metadata": {},
   "outputs": [],
   "source": []
  },
  {
   "cell_type": "code",
   "execution_count": null,
   "metadata": {},
   "outputs": [],
   "source": []
  },
  {
   "cell_type": "code",
   "execution_count": null,
   "metadata": {},
   "outputs": [],
   "source": []
  },
  {
   "cell_type": "code",
   "execution_count": null,
   "metadata": {},
   "outputs": [],
   "source": []
  },
  {
   "cell_type": "code",
   "execution_count": null,
   "metadata": {},
   "outputs": [],
   "source": []
  },
  {
   "cell_type": "code",
   "execution_count": null,
   "metadata": {},
   "outputs": [],
   "source": [
    "\n"
   ]
  },
  {
   "cell_type": "code",
   "execution_count": null,
   "metadata": {},
   "outputs": [],
   "source": []
  },
  {
   "cell_type": "code",
   "execution_count": null,
   "metadata": {},
   "outputs": [],
   "source": []
  },
  {
   "cell_type": "code",
   "execution_count": null,
   "metadata": {},
   "outputs": [],
   "source": []
  }
 ],
 "metadata": {
  "kernelspec": {
   "display_name": "SageMath 9.3",
   "language": "sage",
   "name": "sagemath"
  },
  "language_info": {
   "codemirror_mode": {
    "name": "ipython",
    "version": 3
   },
   "file_extension": ".py",
   "mimetype": "text/x-python",
   "name": "python",
   "nbconvert_exporter": "python",
   "pygments_lexer": "ipython3",
   "version": "3.9.6"
  }
 },
 "nbformat": 4,
 "nbformat_minor": 4
}
