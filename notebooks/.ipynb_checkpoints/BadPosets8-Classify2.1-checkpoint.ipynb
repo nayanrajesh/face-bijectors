{
 "cells": [
  {
   "cell_type": "code",
   "execution_count": 1,
   "metadata": {},
   "outputs": [],
   "source": [
    "import numpy as np\n",
    "#P8 = np.load('/home/nayan/Downloads/sage-9.3/m8_Posets/m8_Bad.npy', allow_pickle = True)\n",
    "load('/home/nayan/Documents/Polymath/face-bijectors/sage-packages/Read.sage')\n",
    "load('/home/nayan/Documents/Polymath/face-bijectors/sage-packages/GeneratePosets.sage')"
   ]
  },
  {
   "cell_type": "code",
   "execution_count": 2,
   "metadata": {},
   "outputs": [],
   "source": [
    "def ArrayToPoset(Arr):\n",
    "    El = list(set([x[0] for x in Arr[0]]+[x[1] for x in Arr[0]]))\n",
    "    P = [Poset([El, Rel]) for Rel in Arr]\n",
    "    return P\n",
    "\n"
   ]
  },
  {
   "cell_type": "code",
   "execution_count": 3,
   "metadata": {},
   "outputs": [],
   "source": [
    "def GoodFromBad(badposet):\n",
    "    m = badposet.cardinality()\n",
    "    X= ReadPosets(m)\n",
    "    Ret =None\n",
    "    Y = oo\n",
    "    for x in X:\n",
    "        if len(x.relations()) >=Y:\n",
    "            continue\n",
    "        if len([y for y in badposet.relations() if y in x.relations()]) == len(badposet.relations()):\n",
    "            Y = len(x.relations())\n",
    "            Ret =x\n",
    "        \n",
    "    return Ret\n",
    "            \n",
    "\n",
    "def EliminateRedun(Goods):\n",
    "    Red = []\n",
    "    for i in range(0,len(Goods)):\n",
    "        for j in range(1,len(Goods)):\n",
    "            if j !=i:\n",
    "                if [x for x in Goods[i].relations() if x in Goods[j].relations()] == Goods[i].relations():\n",
    "                    Red.append(j)\n",
    "    El = [Goods[i] for i in range (0,len(Goods)) if i not in Red]\n",
    "    return El\n",
    "    \n",
    "\n",
    "\n",
    "\n",
    "#P is a bad poset\n",
    "def RelationsToBeAdded(P):\n",
    "    return[x for x in GoodFromBad(P).relations() if x not in P.relations()]\n",
    "\n",
    "def RelEquality(P,Q):\n",
    "    return (RelationsToBeAdded(P) == RelationsToBeAdded(Q))\n",
    "\n",
    "def AddRelations(P,Rel):\n",
    "    if [x for x in P.relations() if x in Rel] != []:\n",
    "        return False\n",
    "    NewRelations = P.relations()+Rel\n",
    "    Elements = [x for x in P]\n",
    "    N = [x for x in NewRelations if x[0]!=x[1]]\n",
    "    NewRelations = N\n",
    "    D = DiGraph(NewRelations)\n",
    "    if D.is_directed_acyclic():\n",
    "        \n",
    "        Q = Poset([Elements, NewRelations])\n",
    "        m = P.cardinality()\n",
    "        if Q in ReadPosets(m):\n",
    "            return True\n",
    "        return False\n",
    "    else:\n",
    "        return False\n",
    "\n",
    "def PosetsThatNeedRelations(BadPosets, Rel):\n",
    "    return [P for P in BadPosets if AddRelations(P,Rel)]\n",
    "\n",
    "\n"
   ]
  },
  {
   "cell_type": "code",
   "execution_count": 139,
   "metadata": {},
   "outputs": [],
   "source": [
    "def Restriction1(P):\n",
    "    m = P.cardinality()\n",
    "    for a in [x for x in P if x!=0]:\n",
    "        c = mod(-a, m)\n",
    "        for b in [x for x in P if x!=0]:\n",
    "            if mod(3*a+b, m) == 0:\n",
    "                if P.is_less_than(a, mod(a+b, m)) and P.is_less_than(c, mod(a-b, m)) and P.is_less_than(c, mod(-b-a,m)):\n",
    "                    if not P.is_less_than(c, mod(a+b, m)):\n",
    "                        #print(a,b,c)\n",
    "                        return False\n",
    "                    if not P.is_less_than(a, mod(a-b, m)):\n",
    "                        #print(a, mod(b-a, m))\n",
    "                        return False\n",
    "                    if not P.is_less_than(b, mod(-b-a,m )):\n",
    "                        #print()\n",
    "                        return False\n",
    "    return True\n",
    "\n",
    "def Restriction2(P):\n",
    "    m = P.cardinality()\n",
    "    for a in [x for x in P if x!=0]:\n",
    "        for b in [x for x in P if x!=0]:\n",
    "            for c in [x for x in P if x!=0]:\n",
    "                if mod(2*a+c-b, m)==0 and mod(2*a+b-c, m)==0:\n",
    "                    if P.is_less_than(a, mod(a+b, m)) and P.is_less_than(a, mod(a+c, m)) and P.is_less_than(mod(3*a,m), mod(2*a,m)):\n",
    "                        if not P.is_less_than(c, mod(a+b, m)):\n",
    "                            #print(a,b,c)\n",
    "                            return False\n",
    "                        if not P.is_less_than(b, mod(a+c, m)):\n",
    "                            #print(a, mod(b-a, m))\n",
    "                            return False\n",
    "                        if not P.is_less_than(a, mod(2*a,m )):\n",
    "                            #print()\n",
    "                            return False\n",
    "    return True\n",
    "\n",
    "def Restriction3(P):\n",
    "    m = P.cardinality()\n",
    "    El = [1..(m-1)]\n",
    "    for a in El:\n",
    "        for b in El:\n",
    "            if mod(2*a,m) == mod(2*b ,m):\n",
    "                #print(a,b)\n",
    "                for c in El:\n",
    "                    if mod(2*c,m)==mod(a+b,m):\n",
    "                        #print(c)\n",
    "                        if P.is_less_than(a, mod(a+b,m)) and P.is_less_than(c, mod(2*a, m)):\n",
    "                            #print(a, b,c)\n",
    "                            if not P.is_less_than(a, mod(2*a, m)):\n",
    "                                return False\n",
    "                            if not P.is_less_than(b, mod(2*a, m)):\n",
    "                                return False\n",
    "                            if not P.is_less_than(c, mod(a+b, m)):\n",
    "                                return False\n",
    "                            if not P.is_less_than(mod(2*a-c, m), mod(a+b,m)):\n",
    "                                return False\n",
    "    return True\n",
    "#Check this again\n",
    "def Restriction4(P):\n",
    "    El = [x for x in P if x!=0]\n",
    "    m = P.cardinality()\n",
    "    for a in El:\n",
    "        for b in El:\n",
    "            for c in El:\n",
    "                if mod(a+c, m) == mod(-2*a-2*b, m):\n",
    "                    for d in El:\n",
    "                        if P.is_less_than(a, mod(a+b,m)) and P.is_less_than(c, mod(-a-b, m)) and P.is_less_than(d, mod(-2*a-2*b, m)):\n",
    "                            if not P.is_less_than(d, mod(a+b,m)):\n",
    "                                return False\n",
    "                            if not P.is_less_than(mod(3*c,m), mod(a+b,m)):\n",
    "                                return False\n",
    "                            if not P.is_less_than(mod(d+a+b,m), mod(-a-b,m)):\n",
    "                                return False\n",
    "                            if not P.is_less_than(a, mod(-a-b,m)):\n",
    "                                return False\n",
    "                            if not P.is_less_than(a, mod(-2*a -2*b, m)):\n",
    "                                return False\n",
    "    return True"
   ]
  },
  {
   "cell_type": "code",
   "execution_count": 4,
   "metadata": {},
   "outputs": [],
   "source": [
    "load('/home/nayan/Documents/Polymath/face-bijectors/sage-packages/GoodFromBad.sage')"
   ]
  },
  {
   "cell_type": "code",
   "execution_count": 15,
   "metadata": {},
   "outputs": [
    {
     "name": "stdout",
     "output_type": "stream",
     "text": [
      "BadPosets8-Classify2.0.ipynb       m9_All.npy         Prop3.13.ipynb\r\n",
      "BadPosets8-Classify2.1.ipynb       m9_Bad.npy         Ridges.ipynb\r\n",
      "BadPosets8-Classify.ipynb          m9_Faces.npy\r\n",
      "generate-posets-in-interval.ipynb  NewPosetGen.ipynb\r\n"
     ]
    }
   ],
   "source": [
    "ls"
   ]
  },
  {
   "cell_type": "code",
   "execution_count": 17,
   "metadata": {},
   "outputs": [],
   "source": [
    "A9 = np.load('m9_Bad.npy', allow_pickle=True)\n",
    "P9 = ArrayToPoset(A9)\n",
    "F9 = ReadPosets(9)"
   ]
  },
  {
   "cell_type": "code",
   "execution_count": 54,
   "metadata": {},
   "outputs": [],
   "source": [
    "A8 = np.load('m8_Bad.npy', allow_pickle=True)\n",
    "P8 = ArrayToPoset(A8)"
   ]
  },
  {
   "cell_type": "code",
   "execution_count": 96,
   "metadata": {},
   "outputs": [
    {
     "data": {
      "text/plain": [
       "63"
      ]
     },
     "execution_count": 96,
     "metadata": {},
     "output_type": "execute_result"
    }
   ],
   "source": [
    "len(X)"
   ]
  },
  {
   "cell_type": "code",
   "execution_count": 136,
   "metadata": {},
   "outputs": [
    {
     "data": {
      "text/plain": [
       "1338"
      ]
     },
     "execution_count": 136,
     "metadata": {},
     "output_type": "execute_result"
    }
   ],
   "source": [
    "len(All8)"
   ]
  },
  {
   "cell_type": "code",
   "execution_count": 157,
   "metadata": {},
   "outputs": [],
   "source": [
    "X = [x for x in P9 if Prop313(x) ]"
   ]
  },
  {
   "cell_type": "code",
   "execution_count": 158,
   "metadata": {},
   "outputs": [
    {
     "data": {
      "text/plain": [
       "588"
      ]
     },
     "execution_count": 158,
     "metadata": {},
     "output_type": "execute_result"
    }
   ],
   "source": [
    "len(X)"
   ]
  },
  {
   "cell_type": "code",
   "execution_count": 115,
   "metadata": {},
   "outputs": [],
   "source": [
    "All8 = ReadPosets(8)"
   ]
  },
  {
   "cell_type": "code",
   "execution_count": null,
   "metadata": {},
   "outputs": [],
   "source": [
    "Filt = [x for x in All8 if Restriction1(x) and Restriction2(x) and Restriction3(x) and Restriction4(x)]"
   ]
  },
  {
   "cell_type": "code",
   "execution_count": null,
   "metadata": {},
   "outputs": [],
   "source": []
  },
  {
   "cell_type": "code",
   "execution_count": 64,
   "metadata": {},
   "outputs": [
    {
     "data": {
      "text/plain": [
       "46"
      ]
     },
     "execution_count": 64,
     "metadata": {},
     "output_type": "execute_result"
    }
   ],
   "source": [
    "14+18+14"
   ]
  },
  {
   "cell_type": "code",
   "execution_count": 37,
   "metadata": {},
   "outputs": [
    {
     "data": {
      "text/plain": [
       "[[2, 7], [2, 6], [5, 7], [5, 6], [1, 6], [4, 6]]"
      ]
     },
     "execution_count": 37,
     "metadata": {},
     "output_type": "execute_result"
    }
   ],
   "source": [
    "RelationsToBeAdded(A9[0])"
   ]
  },
  {
   "cell_type": "code",
   "execution_count": 39,
   "metadata": {},
   "outputs": [
    {
     "ename": "KeyboardInterrupt",
     "evalue": "",
     "output_type": "error",
     "traceback": [
      "\u001b[0;31m---------------------------------------------------------------------------\u001b[0m",
      "\u001b[0;31mKeyboardInterrupt\u001b[0m                         Traceback (most recent call last)",
      "\u001b[0;32m<ipython-input-39-9414df9ba8b9>\u001b[0m in \u001b[0;36m<module>\u001b[0;34m\u001b[0m\n\u001b[0;32m----> 1\u001b[0;31m \u001b[0mPossibleRelations\u001b[0m \u001b[0;34m=\u001b[0m \u001b[0;34m[\u001b[0m\u001b[0mRelationsToBeAdded\u001b[0m\u001b[0;34m(\u001b[0m\u001b[0mP\u001b[0m\u001b[0;34m)\u001b[0m \u001b[0;32mfor\u001b[0m \u001b[0mP\u001b[0m \u001b[0;32min\u001b[0m \u001b[0mA9\u001b[0m\u001b[0;34m]\u001b[0m\u001b[0;34m\u001b[0m\u001b[0;34m\u001b[0m\u001b[0m\n\u001b[0m",
      "\u001b[0;32m<ipython-input-39-9414df9ba8b9>\u001b[0m in \u001b[0;36m<listcomp>\u001b[0;34m(.0)\u001b[0m\n\u001b[0;32m----> 1\u001b[0;31m \u001b[0mPossibleRelations\u001b[0m \u001b[0;34m=\u001b[0m \u001b[0;34m[\u001b[0m\u001b[0mRelationsToBeAdded\u001b[0m\u001b[0;34m(\u001b[0m\u001b[0mP\u001b[0m\u001b[0;34m)\u001b[0m \u001b[0;32mfor\u001b[0m \u001b[0mP\u001b[0m \u001b[0;32min\u001b[0m \u001b[0mA9\u001b[0m\u001b[0;34m]\u001b[0m\u001b[0;34m\u001b[0m\u001b[0;34m\u001b[0m\u001b[0m\n\u001b[0m",
      "\u001b[0;32m<ipython-input-36-93b8b6e6f6cd>\u001b[0m in \u001b[0;36mRelationsToBeAdded\u001b[0;34m(P)\u001b[0m\n\u001b[1;32m     29\u001b[0m \u001b[0;31m#P is a bad poset\u001b[0m\u001b[0;34m\u001b[0m\u001b[0;34m\u001b[0m\u001b[0;34m\u001b[0m\u001b[0m\n\u001b[1;32m     30\u001b[0m \u001b[0;32mdef\u001b[0m \u001b[0mRelationsToBeAdded\u001b[0m\u001b[0;34m(\u001b[0m\u001b[0mP\u001b[0m\u001b[0;34m)\u001b[0m\u001b[0;34m:\u001b[0m\u001b[0;34m\u001b[0m\u001b[0;34m\u001b[0m\u001b[0m\n\u001b[0;32m---> 31\u001b[0;31m     \u001b[0;32mreturn\u001b[0m\u001b[0;34m[\u001b[0m\u001b[0mx\u001b[0m \u001b[0;32mfor\u001b[0m \u001b[0mx\u001b[0m \u001b[0;32min\u001b[0m \u001b[0mGoodFromBad\u001b[0m\u001b[0;34m(\u001b[0m\u001b[0mP\u001b[0m\u001b[0;34m)\u001b[0m\u001b[0;34m.\u001b[0m\u001b[0mrelations\u001b[0m\u001b[0;34m(\u001b[0m\u001b[0;34m)\u001b[0m \u001b[0;32mif\u001b[0m \u001b[0mx\u001b[0m \u001b[0;32mnot\u001b[0m \u001b[0;32min\u001b[0m \u001b[0mP\u001b[0m\u001b[0;34m.\u001b[0m\u001b[0mrelations\u001b[0m\u001b[0;34m(\u001b[0m\u001b[0;34m)\u001b[0m\u001b[0;34m]\u001b[0m\u001b[0;34m\u001b[0m\u001b[0;34m\u001b[0m\u001b[0m\n\u001b[0m\u001b[1;32m     32\u001b[0m \u001b[0;34m\u001b[0m\u001b[0m\n\u001b[1;32m     33\u001b[0m \u001b[0;32mdef\u001b[0m \u001b[0mRelEquality\u001b[0m\u001b[0;34m(\u001b[0m\u001b[0mP\u001b[0m\u001b[0;34m,\u001b[0m\u001b[0mQ\u001b[0m\u001b[0;34m)\u001b[0m\u001b[0;34m:\u001b[0m\u001b[0;34m\u001b[0m\u001b[0;34m\u001b[0m\u001b[0m\n",
      "\u001b[0;32m<ipython-input-36-93b8b6e6f6cd>\u001b[0m in \u001b[0;36mGoodFromBad\u001b[0;34m(badposet)\u001b[0m\n\u001b[1;32m      1\u001b[0m \u001b[0;32mdef\u001b[0m \u001b[0mGoodFromBad\u001b[0m\u001b[0;34m(\u001b[0m\u001b[0mbadposet\u001b[0m\u001b[0;34m)\u001b[0m\u001b[0;34m:\u001b[0m\u001b[0;34m\u001b[0m\u001b[0;34m\u001b[0m\u001b[0m\n\u001b[1;32m      2\u001b[0m     \u001b[0mm\u001b[0m \u001b[0;34m=\u001b[0m \u001b[0mbadposet\u001b[0m\u001b[0;34m.\u001b[0m\u001b[0mcardinality\u001b[0m\u001b[0;34m(\u001b[0m\u001b[0;34m)\u001b[0m\u001b[0;34m\u001b[0m\u001b[0;34m\u001b[0m\u001b[0m\n\u001b[0;32m----> 3\u001b[0;31m     \u001b[0mX\u001b[0m\u001b[0;34m=\u001b[0m \u001b[0mReadPosets\u001b[0m\u001b[0;34m(\u001b[0m\u001b[0mm\u001b[0m\u001b[0;34m)\u001b[0m\u001b[0;34m\u001b[0m\u001b[0;34m\u001b[0m\u001b[0m\n\u001b[0m\u001b[1;32m      4\u001b[0m     \u001b[0mRet\u001b[0m \u001b[0;34m=\u001b[0m\u001b[0;32mNone\u001b[0m\u001b[0;34m\u001b[0m\u001b[0;34m\u001b[0m\u001b[0m\n\u001b[1;32m      5\u001b[0m     \u001b[0mY\u001b[0m \u001b[0;34m=\u001b[0m \u001b[0moo\u001b[0m\u001b[0;34m\u001b[0m\u001b[0;34m\u001b[0m\u001b[0m\n",
      "\u001b[0;32m<string>\u001b[0m in \u001b[0;36mReadPosets\u001b[0;34m(m, d)\u001b[0m\n",
      "\u001b[0;32m<string>\u001b[0m in \u001b[0;36mReadFacesFromNormaliz\u001b[0;34m(face_lattice_file_path, hplane_file_path, faceindices, dimension)\u001b[0m\n",
      "\u001b[0;32m<string>\u001b[0m in \u001b[0;36mBuildFromNormaliz\u001b[0;34m(face_desc, hyperplane_list, hplane_file_path)\u001b[0m\n",
      "\u001b[0;32m<string>\u001b[0m in \u001b[0;36m__init__\u001b[0;34m(self, m, cover_relations, hyperplane_desc, semigroup_gens, numerical_semigroup, apery_set, kunz_coordinates, poset)\u001b[0m\n",
      "\u001b[0;32m<string>\u001b[0m in \u001b[0;36m__generate_cover_relations\u001b[0;34m(self)\u001b[0m\n",
      "\u001b[0;32m/usr/lib/python3.9/site-packages/sage/graphs/generic_graph.py\u001b[0m in \u001b[0;36mtransitive_reduction\u001b[0;34m(self)\u001b[0m\n\u001b[1;32m  18369\u001b[0m             \u001b[0;32mif\u001b[0m \u001b[0mself\u001b[0m\u001b[0;34m.\u001b[0m\u001b[0mis_directed_acyclic\u001b[0m\u001b[0;34m(\u001b[0m\u001b[0;34m)\u001b[0m\u001b[0;34m:\u001b[0m\u001b[0;34m\u001b[0m\u001b[0;34m\u001b[0m\u001b[0m\n\u001b[1;32m  18370\u001b[0m                 \u001b[0;32mfrom\u001b[0m \u001b[0msage\u001b[0m\u001b[0;34m.\u001b[0m\u001b[0mgraphs\u001b[0m\u001b[0;34m.\u001b[0m\u001b[0mgeneric_graph_pyx\u001b[0m \u001b[0;32mimport\u001b[0m \u001b[0mtransitive_reduction_acyclic\u001b[0m\u001b[0;34m\u001b[0m\u001b[0;34m\u001b[0m\u001b[0m\n\u001b[0;32m> 18371\u001b[0;31m                 \u001b[0;32mreturn\u001b[0m \u001b[0mtransitive_reduction_acyclic\u001b[0m\u001b[0;34m(\u001b[0m\u001b[0mself\u001b[0m\u001b[0;34m)\u001b[0m\u001b[0;34m\u001b[0m\u001b[0;34m\u001b[0m\u001b[0m\n\u001b[0m\u001b[1;32m  18372\u001b[0m \u001b[0;34m\u001b[0m\u001b[0m\n\u001b[1;32m  18373\u001b[0m             \u001b[0mG\u001b[0m \u001b[0;34m=\u001b[0m \u001b[0mcopy\u001b[0m\u001b[0;34m(\u001b[0m\u001b[0mself\u001b[0m\u001b[0;34m)\u001b[0m\u001b[0;34m\u001b[0m\u001b[0;34m\u001b[0m\u001b[0m\n",
      "\u001b[0;32m/usr/lib/python3.9/site-packages/sage/graphs/generic_graph_pyx.pyx\u001b[0m in \u001b[0;36msage.graphs.generic_graph_pyx.transitive_reduction_acyclic (build/cythonized/sage/graphs/generic_graph_pyx.c:16346)\u001b[0;34m()\u001b[0m\n\u001b[1;32m   1539\u001b[0m             \u001b[0mv\u001b[0m \u001b[0;34m=\u001b[0m \u001b[0mv_to_int\u001b[0m\u001b[0;34m[\u001b[0m\u001b[0mvv\u001b[0m\u001b[0;34m]\u001b[0m\u001b[0;34m\u001b[0m\u001b[0;34m\u001b[0m\u001b[0m\n\u001b[1;32m   1540\u001b[0m             \u001b[0mbitset_difference\u001b[0m\u001b[0;34m(\u001b[0m\u001b[0mclosure\u001b[0m\u001b[0;34m.\u001b[0m\u001b[0mrows\u001b[0m\u001b[0;34m[\u001b[0m\u001b[0mu\u001b[0m\u001b[0;34m]\u001b[0m\u001b[0;34m,\u001b[0m \u001b[0mclosure\u001b[0m\u001b[0;34m.\u001b[0m\u001b[0mrows\u001b[0m\u001b[0;34m[\u001b[0m\u001b[0mu\u001b[0m\u001b[0;34m]\u001b[0m\u001b[0;34m,\u001b[0m \u001b[0mclosure\u001b[0m\u001b[0;34m.\u001b[0m\u001b[0mrows\u001b[0m\u001b[0;34m[\u001b[0m\u001b[0mv\u001b[0m\u001b[0;34m]\u001b[0m\u001b[0;34m)\u001b[0m\u001b[0;34m\u001b[0m\u001b[0;34m\u001b[0m\u001b[0m\n\u001b[0;32m-> 1541\u001b[0;31m         \u001b[0;32mfor\u001b[0m \u001b[0mvv\u001b[0m \u001b[0;32min\u001b[0m \u001b[0mG\u001b[0m\u001b[0;34m.\u001b[0m\u001b[0mneighbors_out\u001b[0m\u001b[0;34m(\u001b[0m\u001b[0muu\u001b[0m\u001b[0;34m)\u001b[0m\u001b[0;34m:\u001b[0m\u001b[0;34m\u001b[0m\u001b[0;34m\u001b[0m\u001b[0m\n\u001b[0m\u001b[1;32m   1542\u001b[0m             \u001b[0mv\u001b[0m \u001b[0;34m=\u001b[0m \u001b[0mv_to_int\u001b[0m\u001b[0;34m[\u001b[0m\u001b[0mvv\u001b[0m\u001b[0;34m]\u001b[0m\u001b[0;34m\u001b[0m\u001b[0;34m\u001b[0m\u001b[0m\n\u001b[1;32m   1543\u001b[0m             \u001b[0;32mif\u001b[0m \u001b[0mbinary_matrix_get\u001b[0m\u001b[0;34m(\u001b[0m\u001b[0mclosure\u001b[0m\u001b[0;34m,\u001b[0m \u001b[0mu\u001b[0m\u001b[0;34m,\u001b[0m \u001b[0mv\u001b[0m\u001b[0;34m)\u001b[0m\u001b[0;34m:\u001b[0m\u001b[0;34m\u001b[0m\u001b[0;34m\u001b[0m\u001b[0m\n",
      "\u001b[0;32m/usr/lib/python3.9/site-packages/sage/graphs/digraph.py\u001b[0m in \u001b[0;36mneighbors_out\u001b[0;34m(self, vertex)\u001b[0m\n\u001b[1;32m   1249\u001b[0m         \u001b[0;32mreturn\u001b[0m \u001b[0miter\u001b[0m\u001b[0;34m(\u001b[0m\u001b[0mset\u001b[0m\u001b[0;34m(\u001b[0m\u001b[0mself\u001b[0m\u001b[0;34m.\u001b[0m\u001b[0m_backend\u001b[0m\u001b[0;34m.\u001b[0m\u001b[0miterator_out_nbrs\u001b[0m\u001b[0;34m(\u001b[0m\u001b[0mvertex\u001b[0m\u001b[0;34m)\u001b[0m\u001b[0;34m)\u001b[0m\u001b[0;34m)\u001b[0m\u001b[0;34m\u001b[0m\u001b[0;34m\u001b[0m\u001b[0m\n\u001b[1;32m   1250\u001b[0m \u001b[0;34m\u001b[0m\u001b[0m\n\u001b[0;32m-> 1251\u001b[0;31m     \u001b[0;32mdef\u001b[0m \u001b[0mneighbors_out\u001b[0m\u001b[0;34m(\u001b[0m\u001b[0mself\u001b[0m\u001b[0;34m,\u001b[0m \u001b[0mvertex\u001b[0m\u001b[0;34m)\u001b[0m\u001b[0;34m:\u001b[0m\u001b[0;34m\u001b[0m\u001b[0;34m\u001b[0m\u001b[0m\n\u001b[0m\u001b[1;32m   1252\u001b[0m         \"\"\"\n\u001b[1;32m   1253\u001b[0m         \u001b[0mReturn\u001b[0m \u001b[0mthe\u001b[0m \u001b[0mlist\u001b[0m \u001b[0mof\u001b[0m \u001b[0mthe\u001b[0m \u001b[0mout\u001b[0m\u001b[0;34m-\u001b[0m\u001b[0mneighbors\u001b[0m \u001b[0mof\u001b[0m \u001b[0ma\u001b[0m \u001b[0mgiven\u001b[0m \u001b[0mvertex\u001b[0m\u001b[0;34m.\u001b[0m\u001b[0;34m\u001b[0m\u001b[0;34m\u001b[0m\u001b[0m\n",
      "\u001b[0;32msrc/cysignals/signals.pyx\u001b[0m in \u001b[0;36mcysignals.signals.python_check_interrupt\u001b[0;34m()\u001b[0m\n",
      "\u001b[0;31mKeyboardInterrupt\u001b[0m: "
     ]
    }
   ],
   "source": [
    "PossibleRelations = [RelationsToBeAdded(P) for P in A9]"
   ]
  },
  {
   "cell_type": "code",
   "execution_count": 124,
   "metadata": {},
   "outputs": [
    {
     "ename": "KeyboardInterrupt",
     "evalue": "",
     "output_type": "error",
     "traceback": [
      "\u001b[0;31m---------------------------------------------------------------------------\u001b[0m",
      "\u001b[0;31mKeyboardInterrupt\u001b[0m                         Traceback (most recent call last)",
      "\u001b[0;32m<ipython-input-124-b09308a0fad9>\u001b[0m in \u001b[0;36m<module>\u001b[0;34m\u001b[0m\n\u001b[1;32m      1\u001b[0m \u001b[0mX\u001b[0m \u001b[0;34m=\u001b[0m \u001b[0;34m[\u001b[0m\u001b[0;34m]\u001b[0m\u001b[0;34m\u001b[0m\u001b[0;34m\u001b[0m\u001b[0m\n\u001b[1;32m      2\u001b[0m \u001b[0;32mfor\u001b[0m \u001b[0mRelations\u001b[0m \u001b[0;32min\u001b[0m \u001b[0mPR\u001b[0m\u001b[0;34m:\u001b[0m\u001b[0;34m\u001b[0m\u001b[0;34m\u001b[0m\u001b[0m\n\u001b[0;32m----> 3\u001b[0;31m     \u001b[0mY\u001b[0m \u001b[0;34m=\u001b[0m \u001b[0;34m[\u001b[0m\u001b[0mPosetsThatNeedRelations\u001b[0m\u001b[0;34m(\u001b[0m\u001b[0mAllBad\u001b[0m\u001b[0;34m,\u001b[0m \u001b[0mRelations\u001b[0m\u001b[0;34m)\u001b[0m\u001b[0;34m]\u001b[0m\u001b[0;34m\u001b[0m\u001b[0;34m\u001b[0m\u001b[0m\n\u001b[0m\u001b[1;32m      4\u001b[0m     \u001b[0mX\u001b[0m\u001b[0;34m.\u001b[0m\u001b[0mappend\u001b[0m\u001b[0;34m(\u001b[0m\u001b[0mY\u001b[0m\u001b[0;34m)\u001b[0m\u001b[0;34m\u001b[0m\u001b[0;34m\u001b[0m\u001b[0m\n",
      "\u001b[0;32m<ipython-input-89-c955373e9c98>\u001b[0m in \u001b[0;36mPosetsThatNeedRelations\u001b[0;34m(BadPosets, Rel)\u001b[0m\n\u001b[1;32m     48\u001b[0m \u001b[0;34m\u001b[0m\u001b[0m\n\u001b[1;32m     49\u001b[0m \u001b[0;32mdef\u001b[0m \u001b[0mPosetsThatNeedRelations\u001b[0m\u001b[0;34m(\u001b[0m\u001b[0mBadPosets\u001b[0m\u001b[0;34m,\u001b[0m \u001b[0mRel\u001b[0m\u001b[0;34m)\u001b[0m\u001b[0;34m:\u001b[0m\u001b[0;34m\u001b[0m\u001b[0;34m\u001b[0m\u001b[0m\n\u001b[0;32m---> 50\u001b[0;31m     \u001b[0;32mreturn\u001b[0m \u001b[0;34m[\u001b[0m\u001b[0mP\u001b[0m \u001b[0;32mfor\u001b[0m \u001b[0mP\u001b[0m \u001b[0;32min\u001b[0m \u001b[0mBadPosets\u001b[0m \u001b[0;32mif\u001b[0m \u001b[0mAddRelations\u001b[0m\u001b[0;34m(\u001b[0m\u001b[0mP\u001b[0m\u001b[0;34m,\u001b[0m\u001b[0mRel\u001b[0m\u001b[0;34m)\u001b[0m\u001b[0;34m]\u001b[0m\u001b[0;34m\u001b[0m\u001b[0;34m\u001b[0m\u001b[0m\n\u001b[0m\u001b[1;32m     51\u001b[0m \u001b[0;34m\u001b[0m\u001b[0m\n",
      "\u001b[0;32m<ipython-input-89-c955373e9c98>\u001b[0m in \u001b[0;36m<listcomp>\u001b[0;34m(.0)\u001b[0m\n\u001b[1;32m     48\u001b[0m \u001b[0;34m\u001b[0m\u001b[0m\n\u001b[1;32m     49\u001b[0m \u001b[0;32mdef\u001b[0m \u001b[0mPosetsThatNeedRelations\u001b[0m\u001b[0;34m(\u001b[0m\u001b[0mBadPosets\u001b[0m\u001b[0;34m,\u001b[0m \u001b[0mRel\u001b[0m\u001b[0;34m)\u001b[0m\u001b[0;34m:\u001b[0m\u001b[0;34m\u001b[0m\u001b[0;34m\u001b[0m\u001b[0m\n\u001b[0;32m---> 50\u001b[0;31m     \u001b[0;32mreturn\u001b[0m \u001b[0;34m[\u001b[0m\u001b[0mP\u001b[0m \u001b[0;32mfor\u001b[0m \u001b[0mP\u001b[0m \u001b[0;32min\u001b[0m \u001b[0mBadPosets\u001b[0m \u001b[0;32mif\u001b[0m \u001b[0mAddRelations\u001b[0m\u001b[0;34m(\u001b[0m\u001b[0mP\u001b[0m\u001b[0;34m,\u001b[0m\u001b[0mRel\u001b[0m\u001b[0;34m)\u001b[0m\u001b[0;34m]\u001b[0m\u001b[0;34m\u001b[0m\u001b[0;34m\u001b[0m\u001b[0m\n\u001b[0m\u001b[1;32m     51\u001b[0m \u001b[0;34m\u001b[0m\u001b[0m\n",
      "\u001b[0;32m<ipython-input-89-c955373e9c98>\u001b[0m in \u001b[0;36mAddRelations\u001b[0;34m(P, Rel)\u001b[0m\n\u001b[1;32m     41\u001b[0m         \u001b[0mQ\u001b[0m \u001b[0;34m=\u001b[0m \u001b[0mPoset\u001b[0m\u001b[0;34m(\u001b[0m\u001b[0;34m[\u001b[0m\u001b[0mElements\u001b[0m\u001b[0;34m,\u001b[0m \u001b[0mNewRelations\u001b[0m\u001b[0;34m]\u001b[0m\u001b[0;34m)\u001b[0m\u001b[0;34m\u001b[0m\u001b[0;34m\u001b[0m\u001b[0m\n\u001b[1;32m     42\u001b[0m         \u001b[0mm\u001b[0m \u001b[0;34m=\u001b[0m \u001b[0mP\u001b[0m\u001b[0;34m.\u001b[0m\u001b[0mcardinality\u001b[0m\u001b[0;34m(\u001b[0m\u001b[0;34m)\u001b[0m\u001b[0;34m\u001b[0m\u001b[0;34m\u001b[0m\u001b[0m\n\u001b[0;32m---> 43\u001b[0;31m         \u001b[0;32mif\u001b[0m \u001b[0mQ\u001b[0m \u001b[0;32min\u001b[0m \u001b[0mReadPosets\u001b[0m\u001b[0;34m(\u001b[0m\u001b[0mm\u001b[0m\u001b[0;34m)\u001b[0m\u001b[0;34m:\u001b[0m\u001b[0;34m\u001b[0m\u001b[0;34m\u001b[0m\u001b[0m\n\u001b[0m\u001b[1;32m     44\u001b[0m             \u001b[0;32mreturn\u001b[0m \u001b[0;32mTrue\u001b[0m\u001b[0;34m\u001b[0m\u001b[0;34m\u001b[0m\u001b[0m\n\u001b[1;32m     45\u001b[0m         \u001b[0;32mreturn\u001b[0m \u001b[0;32mFalse\u001b[0m\u001b[0;34m\u001b[0m\u001b[0;34m\u001b[0m\u001b[0m\n",
      "\u001b[0;32m<string>\u001b[0m in \u001b[0;36mReadPosets\u001b[0;34m(m, d)\u001b[0m\n",
      "\u001b[0;32m<string>\u001b[0m in \u001b[0;36mReadFacesFromNormaliz\u001b[0;34m(face_lattice_file_path, hplane_file_path, faceindices, dimension)\u001b[0m\n",
      "\u001b[0;32m~/Downloads/sage-9.3/local/lib/python3.9/site-packages/sage/rings/integer.pyx\u001b[0m in \u001b[0;36msage.rings.integer.Integer.__richcmp__ (build/cythonized/sage/rings/integer.c:7888)\u001b[0;34m()\u001b[0m\n\u001b[1;32m    947\u001b[0m             \u001b[0mc\u001b[0m \u001b[0;34m=\u001b[0m \u001b[0mmpz_cmp_d\u001b[0m\u001b[0;34m(\u001b[0m\u001b[0;34m(\u001b[0m\u001b[0;34m<\u001b[0m\u001b[0mInteger\u001b[0m\u001b[0;34m>\u001b[0m\u001b[0mleft\u001b[0m\u001b[0;34m)\u001b[0m\u001b[0;34m.\u001b[0m\u001b[0mvalue\u001b[0m\u001b[0;34m,\u001b[0m \u001b[0md\u001b[0m\u001b[0;34m)\u001b[0m\u001b[0;34m\u001b[0m\u001b[0;34m\u001b[0m\u001b[0m\n\u001b[1;32m    948\u001b[0m         \u001b[0;32melse\u001b[0m\u001b[0;34m:\u001b[0m\u001b[0;34m\u001b[0m\u001b[0;34m\u001b[0m\u001b[0m\n\u001b[0;32m--> 949\u001b[0;31m             \u001b[0;32mreturn\u001b[0m \u001b[0mcoercion_model\u001b[0m\u001b[0;34m.\u001b[0m\u001b[0mrichcmp\u001b[0m\u001b[0;34m(\u001b[0m\u001b[0mleft\u001b[0m\u001b[0;34m,\u001b[0m \u001b[0mright\u001b[0m\u001b[0;34m,\u001b[0m \u001b[0mop\u001b[0m\u001b[0;34m)\u001b[0m\u001b[0;34m\u001b[0m\u001b[0;34m\u001b[0m\u001b[0m\n\u001b[0m\u001b[1;32m    950\u001b[0m \u001b[0;34m\u001b[0m\u001b[0m\n\u001b[1;32m    951\u001b[0m         \u001b[0;32mreturn\u001b[0m \u001b[0mrich_to_bool_sgn\u001b[0m\u001b[0;34m(\u001b[0m\u001b[0mop\u001b[0m\u001b[0;34m,\u001b[0m \u001b[0mc\u001b[0m\u001b[0;34m)\u001b[0m\u001b[0;34m\u001b[0m\u001b[0;34m\u001b[0m\u001b[0m\n",
      "\u001b[0;32m~/Downloads/sage-9.3/local/lib/python3.9/site-packages/sage/structure/coerce.pyx\u001b[0m in \u001b[0;36msage.structure.coerce.CoercionModel.richcmp (build/cythonized/sage/structure/coerce.c:20469)\u001b[0;34m()\u001b[0m\n\u001b[1;32m   1971\u001b[0m         \u001b[0;31m# Coerce to a common parent\u001b[0m\u001b[0;34m\u001b[0m\u001b[0;34m\u001b[0m\u001b[0;34m\u001b[0m\u001b[0m\n\u001b[1;32m   1972\u001b[0m         \u001b[0;32mtry\u001b[0m\u001b[0;34m:\u001b[0m\u001b[0;34m\u001b[0m\u001b[0;34m\u001b[0m\u001b[0m\n\u001b[0;32m-> 1973\u001b[0;31m             \u001b[0mx\u001b[0m\u001b[0;34m,\u001b[0m \u001b[0my\u001b[0m \u001b[0;34m=\u001b[0m \u001b[0mself\u001b[0m\u001b[0;34m.\u001b[0m\u001b[0mcanonical_coercion\u001b[0m\u001b[0;34m(\u001b[0m\u001b[0mx\u001b[0m\u001b[0;34m,\u001b[0m \u001b[0my\u001b[0m\u001b[0;34m)\u001b[0m\u001b[0;34m\u001b[0m\u001b[0;34m\u001b[0m\u001b[0m\n\u001b[0m\u001b[1;32m   1974\u001b[0m         \u001b[0;32mexcept\u001b[0m \u001b[0;34m(\u001b[0m\u001b[0mTypeError\u001b[0m\u001b[0;34m,\u001b[0m \u001b[0mNotImplementedError\u001b[0m\u001b[0;34m)\u001b[0m\u001b[0;34m:\u001b[0m\u001b[0;34m\u001b[0m\u001b[0;34m\u001b[0m\u001b[0m\n\u001b[1;32m   1975\u001b[0m             \u001b[0;32mpass\u001b[0m\u001b[0;34m\u001b[0m\u001b[0;34m\u001b[0m\u001b[0m\n",
      "\u001b[0;32m~/Downloads/sage-9.3/local/lib/python3.9/site-packages/sage/structure/coerce.pyx\u001b[0m in \u001b[0;36msage.structure.coerce.CoercionModel.canonical_coercion (build/cythonized/sage/structure/coerce.c:12123)\u001b[0;34m()\u001b[0m\n\u001b[1;32m   1309\u001b[0m             \u001b[0mx_map\u001b[0m\u001b[0;34m,\u001b[0m \u001b[0my_map\u001b[0m \u001b[0;34m=\u001b[0m \u001b[0mcoercions\u001b[0m\u001b[0;34m\u001b[0m\u001b[0;34m\u001b[0m\u001b[0m\n\u001b[1;32m   1310\u001b[0m             \u001b[0;32mif\u001b[0m \u001b[0mx_map\u001b[0m \u001b[0;32mis\u001b[0m \u001b[0;32mnot\u001b[0m \u001b[0;32mNone\u001b[0m\u001b[0;34m:\u001b[0m\u001b[0;34m\u001b[0m\u001b[0;34m\u001b[0m\u001b[0m\n\u001b[0;32m-> 1311\u001b[0;31m                 \u001b[0mx_elt\u001b[0m \u001b[0;34m=\u001b[0m \u001b[0;34m(\u001b[0m\u001b[0;34m<\u001b[0m\u001b[0mMap\u001b[0m\u001b[0;34m>\u001b[0m\u001b[0mx_map\u001b[0m\u001b[0;34m)\u001b[0m\u001b[0;34m.\u001b[0m\u001b[0m_call_\u001b[0m\u001b[0;34m(\u001b[0m\u001b[0mx\u001b[0m\u001b[0;34m)\u001b[0m\u001b[0;34m\u001b[0m\u001b[0;34m\u001b[0m\u001b[0m\n\u001b[0m\u001b[1;32m   1312\u001b[0m             \u001b[0;32melse\u001b[0m\u001b[0;34m:\u001b[0m\u001b[0;34m\u001b[0m\u001b[0;34m\u001b[0m\u001b[0m\n\u001b[1;32m   1313\u001b[0m                 \u001b[0mx_elt\u001b[0m \u001b[0;34m=\u001b[0m \u001b[0mx\u001b[0m\u001b[0;34m\u001b[0m\u001b[0;34m\u001b[0m\u001b[0m\n",
      "\u001b[0;32m~/Downloads/sage-9.3/local/lib/python3.9/site-packages/sage/structure/coerce_maps.pyx\u001b[0m in \u001b[0;36msage.structure.coerce_maps.DefaultConvertMap_unique._call_ (build/cythonized/sage/structure/coerce_maps.c:4514)\u001b[0;34m()\u001b[0m\n\u001b[1;32m    154\u001b[0m         \u001b[0mcdef\u001b[0m \u001b[0mParent\u001b[0m \u001b[0mC\u001b[0m \u001b[0;34m=\u001b[0m \u001b[0mself\u001b[0m\u001b[0;34m.\u001b[0m\u001b[0m_codomain\u001b[0m\u001b[0;34m\u001b[0m\u001b[0;34m\u001b[0m\u001b[0m\n\u001b[1;32m    155\u001b[0m         \u001b[0;32mtry\u001b[0m\u001b[0;34m:\u001b[0m\u001b[0;34m\u001b[0m\u001b[0;34m\u001b[0m\u001b[0m\n\u001b[0;32m--> 156\u001b[0;31m             \u001b[0;32mreturn\u001b[0m \u001b[0mC\u001b[0m\u001b[0;34m.\u001b[0m\u001b[0m_element_constructor\u001b[0m\u001b[0;34m(\u001b[0m\u001b[0mx\u001b[0m\u001b[0;34m)\u001b[0m\u001b[0;34m\u001b[0m\u001b[0;34m\u001b[0m\u001b[0m\n\u001b[0m\u001b[1;32m    157\u001b[0m         \u001b[0;32mexcept\u001b[0m \u001b[0mException\u001b[0m\u001b[0;34m:\u001b[0m\u001b[0;34m\u001b[0m\u001b[0;34m\u001b[0m\u001b[0m\n\u001b[1;32m    158\u001b[0m             \u001b[0;32mif\u001b[0m \u001b[0mprint_warnings\u001b[0m\u001b[0;34m:\u001b[0m\u001b[0;34m\u001b[0m\u001b[0;34m\u001b[0m\u001b[0m\n",
      "\u001b[0;32m~/Downloads/sage-9.3/local/lib/python3.9/site-packages/sage/rings/infinity.py\u001b[0m in \u001b[0;36m_element_constructor_\u001b[0;34m(self, x)\u001b[0m\n\u001b[1;32m   1201\u001b[0m         \u001b[0;31m# If we got here then x is not infinite\u001b[0m\u001b[0;34m\u001b[0m\u001b[0;34m\u001b[0m\u001b[0;34m\u001b[0m\u001b[0m\n\u001b[1;32m   1202\u001b[0m         \u001b[0mc\u001b[0m \u001b[0;34m=\u001b[0m \u001b[0mint\u001b[0m\u001b[0;34m(\u001b[0m\u001b[0mbool\u001b[0m\u001b[0;34m(\u001b[0m\u001b[0mx\u001b[0m \u001b[0;34m>\u001b[0m \u001b[0;36m0\u001b[0m\u001b[0;34m)\u001b[0m\u001b[0;34m)\u001b[0m \u001b[0;34m-\u001b[0m \u001b[0mint\u001b[0m\u001b[0;34m(\u001b[0m\u001b[0mbool\u001b[0m\u001b[0;34m(\u001b[0m\u001b[0mx\u001b[0m \u001b[0;34m<\u001b[0m \u001b[0;36m0\u001b[0m\u001b[0;34m)\u001b[0m\u001b[0;34m)\u001b[0m\u001b[0;34m\u001b[0m\u001b[0;34m\u001b[0m\u001b[0m\n\u001b[0;32m-> 1203\u001b[0;31m         \u001b[0;32mreturn\u001b[0m \u001b[0mFiniteNumber\u001b[0m\u001b[0;34m(\u001b[0m\u001b[0mself\u001b[0m\u001b[0;34m,\u001b[0m \u001b[0mc\u001b[0m\u001b[0;34m)\u001b[0m\u001b[0;34m\u001b[0m\u001b[0;34m\u001b[0m\u001b[0m\n\u001b[0m\u001b[1;32m   1204\u001b[0m \u001b[0;34m\u001b[0m\u001b[0m\n\u001b[1;32m   1205\u001b[0m     \u001b[0;32mdef\u001b[0m \u001b[0m_coerce_map_from_\u001b[0m\u001b[0;34m(\u001b[0m\u001b[0mself\u001b[0m\u001b[0;34m,\u001b[0m \u001b[0mR\u001b[0m\u001b[0;34m)\u001b[0m\u001b[0;34m:\u001b[0m\u001b[0;34m\u001b[0m\u001b[0;34m\u001b[0m\u001b[0m\n",
      "\u001b[0;32m~/Downloads/sage-9.3/local/lib/python3.9/site-packages/sage/rings/infinity.py\u001b[0m in \u001b[0;36m__init__\u001b[0;34m(self, parent, x)\u001b[0m\n\u001b[1;32m   1300\u001b[0m             \u001b[0mZero\u001b[0m\u001b[0;34m\u001b[0m\u001b[0;34m\u001b[0m\u001b[0m\n\u001b[1;32m   1301\u001b[0m         \"\"\"\n\u001b[0;32m-> 1302\u001b[0;31m         \u001b[0mRingElement\u001b[0m\u001b[0;34m.\u001b[0m\u001b[0m__init__\u001b[0m\u001b[0;34m(\u001b[0m\u001b[0mself\u001b[0m\u001b[0;34m,\u001b[0m \u001b[0mparent\u001b[0m\u001b[0;34m)\u001b[0m\u001b[0;34m\u001b[0m\u001b[0;34m\u001b[0m\u001b[0m\n\u001b[0m\u001b[1;32m   1303\u001b[0m         \u001b[0mself\u001b[0m\u001b[0;34m.\u001b[0m\u001b[0mvalue\u001b[0m \u001b[0;34m=\u001b[0m \u001b[0mx\u001b[0m\u001b[0;34m\u001b[0m\u001b[0;34m\u001b[0m\u001b[0m\n\u001b[1;32m   1304\u001b[0m \u001b[0;34m\u001b[0m\u001b[0m\n",
      "\u001b[0;32msrc/cysignals/signals.pyx\u001b[0m in \u001b[0;36mcysignals.signals.python_check_interrupt\u001b[0;34m()\u001b[0m\n",
      "\u001b[0;31mKeyboardInterrupt\u001b[0m: "
     ]
    }
   ],
   "source": [
    "X = []\n",
    "for Relations in PossibleRelations:\n",
    "    Y = [PosetsThatNeedRelations(AllBad, Relations)]\n",
    "    X.append(Y)"
   ]
  },
  {
   "cell_type": "code",
   "execution_count": null,
   "metadata": {},
   "outputs": [],
   "source": []
  },
  {
   "cell_type": "code",
   "execution_count": null,
   "metadata": {},
   "outputs": [],
   "source": []
  },
  {
   "cell_type": "code",
   "execution_count": null,
   "metadata": {},
   "outputs": [],
   "source": []
  },
  {
   "cell_type": "code",
   "execution_count": null,
   "metadata": {},
   "outputs": [],
   "source": []
  },
  {
   "cell_type": "code",
   "execution_count": null,
   "metadata": {},
   "outputs": [],
   "source": []
  },
  {
   "cell_type": "code",
   "execution_count": null,
   "metadata": {},
   "outputs": [],
   "source": []
  },
  {
   "cell_type": "code",
   "execution_count": null,
   "metadata": {},
   "outputs": [],
   "source": []
  },
  {
   "cell_type": "code",
   "execution_count": null,
   "metadata": {},
   "outputs": [],
   "source": []
  },
  {
   "cell_type": "code",
   "execution_count": null,
   "metadata": {},
   "outputs": [],
   "source": []
  },
  {
   "cell_type": "code",
   "execution_count": null,
   "metadata": {},
   "outputs": [],
   "source": []
  },
  {
   "cell_type": "code",
   "execution_count": null,
   "metadata": {},
   "outputs": [],
   "source": []
  },
  {
   "cell_type": "code",
   "execution_count": null,
   "metadata": {},
   "outputs": [],
   "source": []
  },
  {
   "cell_type": "code",
   "execution_count": null,
   "metadata": {},
   "outputs": [],
   "source": []
  },
  {
   "cell_type": "code",
   "execution_count": null,
   "metadata": {},
   "outputs": [],
   "source": []
  },
  {
   "cell_type": "code",
   "execution_count": 150,
   "metadata": {},
   "outputs": [],
   "source": [
    "#Uncomment the line below to load the Code that generates all posets\n",
    "#load('/home/sage/sage-packages/GeneratePosets.sage')\n",
    "\n",
    "#Uncomment the line below to load the Code to Read Face Posets\n",
    "#load('home/sage/sage-packages/Read.sage')\n",
    "\n",
    "\n",
    "\n",
    "#Return all subgroups of Z_m\n",
    "def AllSubgroups(m):\n",
    "    HH = []\n",
    "    if m in Primes():\n",
    "        return [[0]]\n",
    "    else:\n",
    "        for i in range (2, m//2+1):\n",
    "            j = i\n",
    "            H = []\n",
    "            while True:\n",
    "                H.append(j)\n",
    "                H1 = set(H)\n",
    "                if j == 0:\n",
    "                    break\n",
    "                j = mod(j+i,m)\n",
    "                \n",
    "                    \n",
    "            if H1 not in HH and H1!=set(list[0..(m-1)]):\n",
    "                HH.append(H1)\n",
    "    return [list(x) for x in HH]\n",
    "\n"
   ]
  },
  {
   "cell_type": "code",
   "execution_count": 163,
   "metadata": {},
   "outputs": [],
   "source": [
    "#returns all the elements of the poset that satisfy a \\in G\\H and 2a \\notin H\n",
    "def AFromSubGroup(Poset, H):\n",
    "    m = Poset.cardinality()\n",
    "    GminusH = [x for x in Poset if x not in H]\n",
    "    A2NotinH = [x for x in GminusH if mod(x+x,m) not in H]\n",
    "    return A2NotinH\n",
    "\n",
    "\n",
    "\n",
    "\n",
    "\n",
    "\n",
    "\n",
    "\n",
    "#Checks Prop313(a)\n",
    "def Check3131(Poset, a, H):\n",
    "    m = Poset.cardinality()\n",
    "\n",
    "    flag = 0\n",
    "    for b in H:\n",
    "        l = 0\n",
    "        for i in [mod(a+h, m) for h in H]:\n",
    "            if Poset.is_lequal(i, mod(i+i+b, m)):\n",
    "                l=l+1\n",
    "        if l == len(H):\n",
    "            flag =1\n",
    "            break\n",
    "    return (flag == 1)\n",
    "    \n",
    "#Checks Prop 313(b)    \n",
    "def Check3132(Poset, a, H):\n",
    "    m = Poset.cardinality()\n",
    "    for i in [mod(a+h,m) for h in H]:\n",
    "        for j in [mod(a+a+h,m) for h in H]:\n",
    "            if not Poset.is_lequal(i,j):\n",
    "                return False\n",
    "            \n",
    "\n",
    "\n",
    "\n",
    "\n",
    "\n",
    "#For all Subgroups, H of Z_m and for a corresponding to each subgroup such that a \\in G\\H and 2a \\notin H, check if\n",
    "#Prop313(a) is equivalent to Prop313(b)\n",
    "def Prop313(Poset):\n",
    "    m = Poset.cardinality()\n",
    "    \n",
    "    HH = AllSubgroups(m)\n",
    "    for H in HH:\n",
    "        A = AFromSubGroup(Poset, H)\n",
    "        for a in A:\n",
    "            if Check3131(Poset, a, H) != Check3132(Poset, a,H):\n",
    "                return False\n",
    "        return True\n",
    "\n",
    "    \n",
    "    "
   ]
  },
  {
   "cell_type": "code",
   "execution_count": 164,
   "metadata": {},
   "outputs": [],
   "source": [
    "def Check3141(Poset, a, H):\n",
    "    m = Poset.cardinality()\n",
    "    B=0\n",
    "    flag = 0\n",
    "    for b in H:\n",
    "        l = 0\n",
    "        for i in [mod(a+h, m) for h in H]:\n",
    "            if Poset.is_lequal(i, mod(i+i+b, m)):\n",
    "                l=l+1\n",
    "        if l == len(H):\n",
    "            flag =1\n",
    "            B = b\n",
    "            break\n",
    "    return [(flag == 1), B]"
   ]
  },
  {
   "cell_type": "code",
   "execution_count": 275,
   "metadata": {},
   "outputs": [],
   "source": [
    "def Check3141(P, a, H):\n",
    "    m = P.cardinality()\n",
    "    B=0\n",
    "    flag = 0\n",
    "    for b in H:\n",
    "        l = 0\n",
    "        for i in [mod(a+h, m) for h in H]:\n",
    "            if P.is_lequal(i, mod(i+i+b, m)):\n",
    "                l=l+1\n",
    "        if l == len(H):\n",
    "            flag =1\n",
    "            B = b\n",
    "            break\n",
    "    return [(flag == 1), B]\n",
    "\n",
    "def Check3142(P,a,H):\n",
    "    m  = P.cardinality()\n",
    "    Coset = [mod(a+h,m) for h in H]\n",
    "    b = Check3141(P,a,H)[1]\n",
    "    B = [mod(2*i+b, m) for i in Coset]\n",
    "    for i in Coset:\n",
    "        for j in B:\n",
    "            if not P.is_less_than(i, j):\n",
    "                return False\n",
    "    return True\n",
    "\n",
    "def Prop314(P):\n",
    "    m = P.cardinality()\n",
    "    \n",
    "    HH = AllSubgroups(m)\n",
    "    #print(HH)\n",
    "    for H in HH:\n",
    "\n",
    "        for a in [0..(m//len(H))]:\n",
    "            #print(H,A)\n",
    "            if Check3141(P, a, H)[0]==True:\n",
    "                return Check3142(P,a,H)\n",
    "            \n",
    "    return True\n",
    "    "
   ]
  },
  {
   "cell_type": "code",
   "execution_count": 269,
   "metadata": {},
   "outputs": [
    {
     "data": {
      "text/plain": [
       "1338"
      ]
     },
     "execution_count": 269,
     "metadata": {},
     "output_type": "execute_result"
    }
   ],
   "source": [
    "len(All8)"
   ]
  },
  {
   "cell_type": "code",
   "execution_count": 276,
   "metadata": {},
   "outputs": [],
   "source": [
    "X = [x for x in All8 if Prop314(P)]"
   ]
  },
  {
   "cell_type": "code",
   "execution_count": 281,
   "metadata": {},
   "outputs": [
    {
     "data": {
      "text/plain": [
       "[True, 4]"
      ]
     },
     "execution_count": 281,
     "metadata": {},
     "output_type": "execute_result"
    }
   ],
   "source": [
    "Check3141(All8[0],4,[0,4])"
   ]
  },
  {
   "cell_type": "code",
   "execution_count": 282,
   "metadata": {},
   "outputs": [
    {
     "data": {
      "text/plain": [
       "False"
      ]
     },
     "execution_count": 282,
     "metadata": {},
     "output_type": "execute_result"
    }
   ],
   "source": [
    "Check3142(P,4,[0,4])"
   ]
  },
  {
   "cell_type": "code",
   "execution_count": 248,
   "metadata": {},
   "outputs": [
    {
     "data": {
      "text/plain": [
       "True"
      ]
     },
     "execution_count": 248,
     "metadata": {},
     "output_type": "execute_result"
    }
   ],
   "source": [
    "Check3141(P, 1, [0,2,4,6])[0]"
   ]
  },
  {
   "cell_type": "code",
   "execution_count": 249,
   "metadata": {},
   "outputs": [
    {
     "data": {
      "text/plain": [
       "False"
      ]
     },
     "execution_count": 249,
     "metadata": {},
     "output_type": "execute_result"
    }
   ],
   "source": [
    "Check3142(P, 1, [0,2,4,6])"
   ]
  },
  {
   "cell_type": "code",
   "execution_count": null,
   "metadata": {},
   "outputs": [],
   "source": []
  }
 ],
 "metadata": {
  "kernelspec": {
   "display_name": "SageMath 9.3",
   "language": "sage",
   "name": "sagemath"
  },
  "language_info": {
   "codemirror_mode": {
    "name": "ipython",
    "version": 3
   },
   "file_extension": ".py",
   "mimetype": "text/x-python",
   "name": "python",
   "nbconvert_exporter": "python",
   "pygments_lexer": "ipython3",
   "version": "3.9.5"
  }
 },
 "nbformat": 4,
 "nbformat_minor": 4
}
